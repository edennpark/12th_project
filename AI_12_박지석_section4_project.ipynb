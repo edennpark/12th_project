{
  "cells": [
    {
      "cell_type": "code",
      "execution_count": null,
      "metadata": {
        "id": "qvrrDaGRN7I3"
      },
      "outputs": [],
      "source": [
        "import sqlite3\n",
        "\n",
        "conn = sqlite3.connect(r\"/content/drive/MyDrive/tripadviser.db\")\n",
        "cur = conn.cursor()"
      ]
    },
    {
      "cell_type": "code",
      "execution_count": null,
      "metadata": {
        "id": "Ix3Cljqg50uk"
      },
      "outputs": [],
      "source": [
        "import pandas as pd\n",
        "import numpy as np\n",
        "import matplotlib.pyplot as plt\n",
        "import seaborn as sns"
      ]
    },
    {
      "cell_type": "code",
      "execution_count": null,
      "metadata": {
        "colab": {
          "base_uri": "https://localhost:8080/",
          "height": 225
        },
        "id": "rDDwDycDU_Q1",
        "outputId": "b8db06d5-7385-44f5-95e3-9cd2230f8443"
      },
      "outputs": [
        {
          "output_type": "stream",
          "name": "stdout",
          "text": [
            "(20491, 2)\n"
          ]
        },
        {
          "output_type": "execute_result",
          "data": {
            "text/plain": [
              "                                             reviews  rating\n",
              "0  nice hotel expensive parking got good deal sta...       4\n",
              "1  ok nothing special charge diamond member hilto...       2\n",
              "2  nice rooms not 4* experience hotel monaco seat...       3\n",
              "3  unique, great stay, wonderful time hotel monac...       5\n",
              "4  great stay great stay, went seahawk game aweso...       5"
            ],
            "text/html": [
              "\n",
              "  <div id=\"df-25752a1b-d417-41e5-b972-2c3b7816df0d\">\n",
              "    <div class=\"colab-df-container\">\n",
              "      <div>\n",
              "<style scoped>\n",
              "    .dataframe tbody tr th:only-of-type {\n",
              "        vertical-align: middle;\n",
              "    }\n",
              "\n",
              "    .dataframe tbody tr th {\n",
              "        vertical-align: top;\n",
              "    }\n",
              "\n",
              "    .dataframe thead th {\n",
              "        text-align: right;\n",
              "    }\n",
              "</style>\n",
              "<table border=\"1\" class=\"dataframe\">\n",
              "  <thead>\n",
              "    <tr style=\"text-align: right;\">\n",
              "      <th></th>\n",
              "      <th>reviews</th>\n",
              "      <th>rating</th>\n",
              "    </tr>\n",
              "  </thead>\n",
              "  <tbody>\n",
              "    <tr>\n",
              "      <th>0</th>\n",
              "      <td>nice hotel expensive parking got good deal sta...</td>\n",
              "      <td>4</td>\n",
              "    </tr>\n",
              "    <tr>\n",
              "      <th>1</th>\n",
              "      <td>ok nothing special charge diamond member hilto...</td>\n",
              "      <td>2</td>\n",
              "    </tr>\n",
              "    <tr>\n",
              "      <th>2</th>\n",
              "      <td>nice rooms not 4* experience hotel monaco seat...</td>\n",
              "      <td>3</td>\n",
              "    </tr>\n",
              "    <tr>\n",
              "      <th>3</th>\n",
              "      <td>unique, great stay, wonderful time hotel monac...</td>\n",
              "      <td>5</td>\n",
              "    </tr>\n",
              "    <tr>\n",
              "      <th>4</th>\n",
              "      <td>great stay great stay, went seahawk game aweso...</td>\n",
              "      <td>5</td>\n",
              "    </tr>\n",
              "  </tbody>\n",
              "</table>\n",
              "</div>\n",
              "      <button class=\"colab-df-convert\" onclick=\"convertToInteractive('df-25752a1b-d417-41e5-b972-2c3b7816df0d')\"\n",
              "              title=\"Convert this dataframe to an interactive table.\"\n",
              "              style=\"display:none;\">\n",
              "        \n",
              "  <svg xmlns=\"http://www.w3.org/2000/svg\" height=\"24px\"viewBox=\"0 0 24 24\"\n",
              "       width=\"24px\">\n",
              "    <path d=\"M0 0h24v24H0V0z\" fill=\"none\"/>\n",
              "    <path d=\"M18.56 5.44l.94 2.06.94-2.06 2.06-.94-2.06-.94-.94-2.06-.94 2.06-2.06.94zm-11 1L8.5 8.5l.94-2.06 2.06-.94-2.06-.94L8.5 2.5l-.94 2.06-2.06.94zm10 10l.94 2.06.94-2.06 2.06-.94-2.06-.94-.94-2.06-.94 2.06-2.06.94z\"/><path d=\"M17.41 7.96l-1.37-1.37c-.4-.4-.92-.59-1.43-.59-.52 0-1.04.2-1.43.59L10.3 9.45l-7.72 7.72c-.78.78-.78 2.05 0 2.83L4 21.41c.39.39.9.59 1.41.59.51 0 1.02-.2 1.41-.59l7.78-7.78 2.81-2.81c.8-.78.8-2.07 0-2.86zM5.41 20L4 18.59l7.72-7.72 1.47 1.35L5.41 20z\"/>\n",
              "  </svg>\n",
              "      </button>\n",
              "      \n",
              "  <style>\n",
              "    .colab-df-container {\n",
              "      display:flex;\n",
              "      flex-wrap:wrap;\n",
              "      gap: 12px;\n",
              "    }\n",
              "\n",
              "    .colab-df-convert {\n",
              "      background-color: #E8F0FE;\n",
              "      border: none;\n",
              "      border-radius: 50%;\n",
              "      cursor: pointer;\n",
              "      display: none;\n",
              "      fill: #1967D2;\n",
              "      height: 32px;\n",
              "      padding: 0 0 0 0;\n",
              "      width: 32px;\n",
              "    }\n",
              "\n",
              "    .colab-df-convert:hover {\n",
              "      background-color: #E2EBFA;\n",
              "      box-shadow: 0px 1px 2px rgba(60, 64, 67, 0.3), 0px 1px 3px 1px rgba(60, 64, 67, 0.15);\n",
              "      fill: #174EA6;\n",
              "    }\n",
              "\n",
              "    [theme=dark] .colab-df-convert {\n",
              "      background-color: #3B4455;\n",
              "      fill: #D2E3FC;\n",
              "    }\n",
              "\n",
              "    [theme=dark] .colab-df-convert:hover {\n",
              "      background-color: #434B5C;\n",
              "      box-shadow: 0px 1px 3px 1px rgba(0, 0, 0, 0.15);\n",
              "      filter: drop-shadow(0px 1px 2px rgba(0, 0, 0, 0.3));\n",
              "      fill: #FFFFFF;\n",
              "    }\n",
              "  </style>\n",
              "\n",
              "      <script>\n",
              "        const buttonEl =\n",
              "          document.querySelector('#df-25752a1b-d417-41e5-b972-2c3b7816df0d button.colab-df-convert');\n",
              "        buttonEl.style.display =\n",
              "          google.colab.kernel.accessAllowed ? 'block' : 'none';\n",
              "\n",
              "        async function convertToInteractive(key) {\n",
              "          const element = document.querySelector('#df-25752a1b-d417-41e5-b972-2c3b7816df0d');\n",
              "          const dataTable =\n",
              "            await google.colab.kernel.invokeFunction('convertToInteractive',\n",
              "                                                     [key], {});\n",
              "          if (!dataTable) return;\n",
              "\n",
              "          const docLinkHtml = 'Like what you see? Visit the ' +\n",
              "            '<a target=\"_blank\" href=https://colab.research.google.com/notebooks/data_table.ipynb>data table notebook</a>'\n",
              "            + ' to learn more about interactive tables.';\n",
              "          element.innerHTML = '';\n",
              "          dataTable['output_type'] = 'display_data';\n",
              "          await google.colab.output.renderOutput(dataTable, element);\n",
              "          const docLink = document.createElement('div');\n",
              "          docLink.innerHTML = docLinkHtml;\n",
              "          element.appendChild(docLink);\n",
              "        }\n",
              "      </script>\n",
              "    </div>\n",
              "  </div>\n",
              "  "
            ]
          },
          "metadata": {},
          "execution_count": 3
        }
      ],
      "source": [
        "cur.execute(\"SELECT * FROM hotel_reviews\") # 데이터로드\n",
        "df = pd.DataFrame(cur.fetchall(), columns=['reviews', 'rating'])\n",
        "cur.close()\n",
        "conn.close()\n",
        "\n",
        "print(df.shape)\n",
        "df.head()"
      ]
    },
    {
      "cell_type": "code",
      "source": [
        "print(f\"중복된 데이터 수 : {df['reviews'].duplicated().sum()} \\n\")\n",
        "print(f\"\"\"NaN 데이터 수: \n",
        "{df.isna().sum()}\"\"\")"
      ],
      "metadata": {
        "colab": {
          "base_uri": "https://localhost:8080/"
        },
        "id": "2DdD3RWUB0Op",
        "outputId": "2f37d0fa-dd02-456d-c97b-93098fceabe4"
      },
      "execution_count": null,
      "outputs": [
        {
          "output_type": "stream",
          "name": "stdout",
          "text": [
            "중복된 데이터 수 : 0 \n",
            "\n",
            "NaN 데이터 수: \n",
            "reviews    0\n",
            "rating     0\n",
            "dtype: int64\n"
          ]
        }
      ]
    },
    {
      "cell_type": "code",
      "source": [
        "rating = df['rating'].value_counts()\n",
        "sns.barplot(x=rating.index, y=rating)\n",
        "print(rating)"
      ],
      "metadata": {
        "colab": {
          "base_uri": "https://localhost:8080/",
          "height": 375
        },
        "id": "QfHg4zj5TGhE",
        "outputId": "7ec8b324-80f2-44a4-ef8b-e1881912978b"
      },
      "execution_count": null,
      "outputs": [
        {
          "output_type": "stream",
          "name": "stdout",
          "text": [
            "5    9054\n",
            "4    6039\n",
            "3    2184\n",
            "2    1793\n",
            "1    1421\n",
            "Name: rating, dtype: int64\n"
          ]
        },
        {
          "output_type": "display_data",
          "data": {
            "text/plain": [
              "<Figure size 432x288 with 1 Axes>"
            ],
            "image/png": "[encoded data removed]"
          },
          "metadata": {
            "needs_background": "light"
          }
        }
      ]
    },
    {
      "cell_type": "code",
      "execution_count": null,
      "metadata": {
        "colab": {
          "base_uri": "https://localhost:8080/",
          "height": 206
        },
        "id": "hEt9BHwI6FPc",
        "outputId": "24d1eb84-dc24-460e-cb0b-9b897f669f6c"
      },
      "outputs": [
        {
          "output_type": "execute_result",
          "data": {
            "text/plain": [
              "                                             reviews  rating  label\n",
              "0  nice hotel expensive parking got good deal sta...       4      1\n",
              "1  ok nothing special charge diamond member hilto...       2      0\n",
              "2  nice rooms not 4* experience hotel monaco seat...       3      0\n",
              "3  unique, great stay, wonderful time hotel monac...       5      1\n",
              "4  great stay great stay, went seahawk game aweso...       5      1"
            ],
            "text/html": [
              "\n",
              "  <div id=\"df-ed4d4195-a448-460f-9cce-c0c91f71f8a6\">\n",
              "    <div class=\"colab-df-container\">\n",
              "      <div>\n",
              "<style scoped>\n",
              "    .dataframe tbody tr th:only-of-type {\n",
              "        vertical-align: middle;\n",
              "    }\n",
              "\n",
              "    .dataframe tbody tr th {\n",
              "        vertical-align: top;\n",
              "    }\n",
              "\n",
              "    .dataframe thead th {\n",
              "        text-align: right;\n",
              "    }\n",
              "</style>\n",
              "<table border=\"1\" class=\"dataframe\">\n",
              "  <thead>\n",
              "    <tr style=\"text-align: right;\">\n",
              "      <th></th>\n",
              "      <th>reviews</th>\n",
              "      <th>rating</th>\n",
              "      <th>label</th>\n",
              "    </tr>\n",
              "  </thead>\n",
              "  <tbody>\n",
              "    <tr>\n",
              "      <th>0</th>\n",
              "      <td>nice hotel expensive parking got good deal sta...</td>\n",
              "      <td>4</td>\n",
              "      <td>1</td>\n",
              "    </tr>\n",
              "    <tr>\n",
              "      <th>1</th>\n",
              "      <td>ok nothing special charge diamond member hilto...</td>\n",
              "      <td>2</td>\n",
              "      <td>0</td>\n",
              "    </tr>\n",
              "    <tr>\n",
              "      <th>2</th>\n",
              "      <td>nice rooms not 4* experience hotel monaco seat...</td>\n",
              "      <td>3</td>\n",
              "      <td>0</td>\n",
              "    </tr>\n",
              "    <tr>\n",
              "      <th>3</th>\n",
              "      <td>unique, great stay, wonderful time hotel monac...</td>\n",
              "      <td>5</td>\n",
              "      <td>1</td>\n",
              "    </tr>\n",
              "    <tr>\n",
              "      <th>4</th>\n",
              "      <td>great stay great stay, went seahawk game aweso...</td>\n",
              "      <td>5</td>\n",
              "      <td>1</td>\n",
              "    </tr>\n",
              "  </tbody>\n",
              "</table>\n",
              "</div>\n",
              "      <button class=\"colab-df-convert\" onclick=\"convertToInteractive('df-ed4d4195-a448-460f-9cce-c0c91f71f8a6')\"\n",
              "              title=\"Convert this dataframe to an interactive table.\"\n",
              "              style=\"display:none;\">\n",
              "        \n",
              "  <svg xmlns=\"http://www.w3.org/2000/svg\" height=\"24px\"viewBox=\"0 0 24 24\"\n",
              "       width=\"24px\">\n",
              "    <path d=\"M0 0h24v24H0V0z\" fill=\"none\"/>\n",
              "    <path d=\"M18.56 5.44l.94 2.06.94-2.06 2.06-.94-2.06-.94-.94-2.06-.94 2.06-2.06.94zm-11 1L8.5 8.5l.94-2.06 2.06-.94-2.06-.94L8.5 2.5l-.94 2.06-2.06.94zm10 10l.94 2.06.94-2.06 2.06-.94-2.06-.94-.94-2.06-.94 2.06-2.06.94z\"/><path d=\"M17.41 7.96l-1.37-1.37c-.4-.4-.92-.59-1.43-.59-.52 0-1.04.2-1.43.59L10.3 9.45l-7.72 7.72c-.78.78-.78 2.05 0 2.83L4 21.41c.39.39.9.59 1.41.59.51 0 1.02-.2 1.41-.59l7.78-7.78 2.81-2.81c.8-.78.8-2.07 0-2.86zM5.41 20L4 18.59l7.72-7.72 1.47 1.35L5.41 20z\"/>\n",
              "  </svg>\n",
              "      </button>\n",
              "      \n",
              "  <style>\n",
              "    .colab-df-container {\n",
              "      display:flex;\n",
              "      flex-wrap:wrap;\n",
              "      gap: 12px;\n",
              "    }\n",
              "\n",
              "    .colab-df-convert {\n",
              "      background-color: #E8F0FE;\n",
              "      border: none;\n",
              "      border-radius: 50%;\n",
              "      cursor: pointer;\n",
              "      display: none;\n",
              "      fill: #1967D2;\n",
              "      height: 32px;\n",
              "      padding: 0 0 0 0;\n",
              "      width: 32px;\n",
              "    }\n",
              "\n",
              "    .colab-df-convert:hover {\n",
              "      background-color: #E2EBFA;\n",
              "      box-shadow: 0px 1px 2px rgba(60, 64, 67, 0.3), 0px 1px 3px 1px rgba(60, 64, 67, 0.15);\n",
              "      fill: #174EA6;\n",
              "    }\n",
              "\n",
              "    [theme=dark] .colab-df-convert {\n",
              "      background-color: #3B4455;\n",
              "      fill: #D2E3FC;\n",
              "    }\n",
              "\n",
              "    [theme=dark] .colab-df-convert:hover {\n",
              "      background-color: #434B5C;\n",
              "      box-shadow: 0px 1px 3px 1px rgba(0, 0, 0, 0.15);\n",
              "      filter: drop-shadow(0px 1px 2px rgba(0, 0, 0, 0.3));\n",
              "      fill: #FFFFFF;\n",
              "    }\n",
              "  </style>\n",
              "\n",
              "      <script>\n",
              "        const buttonEl =\n",
              "          document.querySelector('#df-ed4d4195-a448-460f-9cce-c0c91f71f8a6 button.colab-df-convert');\n",
              "        buttonEl.style.display =\n",
              "          google.colab.kernel.accessAllowed ? 'block' : 'none';\n",
              "\n",
              "        async function convertToInteractive(key) {\n",
              "          const element = document.querySelector('#df-ed4d4195-a448-460f-9cce-c0c91f71f8a6');\n",
              "          const dataTable =\n",
              "            await google.colab.kernel.invokeFunction('convertToInteractive',\n",
              "                                                     [key], {});\n",
              "          if (!dataTable) return;\n",
              "\n",
              "          const docLinkHtml = 'Like what you see? Visit the ' +\n",
              "            '<a target=\"_blank\" href=https://colab.research.google.com/notebooks/data_table.ipynb>data table notebook</a>'\n",
              "            + ' to learn more about interactive tables.';\n",
              "          element.innerHTML = '';\n",
              "          dataTable['output_type'] = 'display_data';\n",
              "          await google.colab.output.renderOutput(dataTable, element);\n",
              "          const docLink = document.createElement('div');\n",
              "          docLink.innerHTML = docLinkHtml;\n",
              "          element.appendChild(docLink);\n",
              "        }\n",
              "      </script>\n",
              "    </div>\n",
              "  </div>\n",
              "  "
            ]
          },
          "metadata": {},
          "execution_count": 6
        }
      ],
      "source": [
        "# 타겟 생성\n",
        "df['label'] = np.select([df['rating'] > 3], [1], 0) # 평가점수 4점이상 → 긍정리뷰\n",
        "df.head()"
      ]
    },
    {
      "cell_type": "code",
      "source": [
        "# 베이스모델 정확도 확인\n",
        "df['label'].value_counts(normalize=True)"
      ],
      "metadata": {
        "colab": {
          "base_uri": "https://localhost:8080/"
        },
        "id": "aLHPIZNIDGFo",
        "outputId": "fb1f6d98-7eb0-4fa8-bc53-14d6043a0d07"
      },
      "execution_count": null,
      "outputs": [
        {
          "output_type": "execute_result",
          "data": {
            "text/plain": [
              "1    0.736567\n",
              "0    0.263433\n",
              "Name: label, dtype: float64"
            ]
          },
          "metadata": {},
          "execution_count": 7
        }
      ]
    },
    {
      "cell_type": "code",
      "execution_count": null,
      "metadata": {
        "colab": {
          "base_uri": "https://localhost:8080/",
          "height": 206
        },
        "id": "895Iz2XmAK12",
        "outputId": "e98c0cc5-c611-422c-a708-08395d6d5f7d"
      },
      "outputs": [
        {
          "output_type": "execute_result",
          "data": {
            "text/plain": [
              "                                             reviews  rating  label\n",
              "0  nice hotel expensive parking got good deal sta...       4      1\n",
              "1  ok nothing special charge diamond member hilto...       2      0\n",
              "2  nice rooms not 4 experience hotel monaco seatt...       3      0\n",
              "3  unique great stay wonderful time hotel monaco ...       5      1\n",
              "4  great stay great stay went seahawk game awesom...       5      1"
            ],
            "text/html": [
              "\n",
              "  <div id=\"df-2e2ca2e5-417c-4bf1-9336-208bda879f47\">\n",
              "    <div class=\"colab-df-container\">\n",
              "      <div>\n",
              "<style scoped>\n",
              "    .dataframe tbody tr th:only-of-type {\n",
              "        vertical-align: middle;\n",
              "    }\n",
              "\n",
              "    .dataframe tbody tr th {\n",
              "        vertical-align: top;\n",
              "    }\n",
              "\n",
              "    .dataframe thead th {\n",
              "        text-align: right;\n",
              "    }\n",
              "</style>\n",
              "<table border=\"1\" class=\"dataframe\">\n",
              "  <thead>\n",
              "    <tr style=\"text-align: right;\">\n",
              "      <th></th>\n",
              "      <th>reviews</th>\n",
              "      <th>rating</th>\n",
              "      <th>label</th>\n",
              "    </tr>\n",
              "  </thead>\n",
              "  <tbody>\n",
              "    <tr>\n",
              "      <th>0</th>\n",
              "      <td>nice hotel expensive parking got good deal sta...</td>\n",
              "      <td>4</td>\n",
              "      <td>1</td>\n",
              "    </tr>\n",
              "    <tr>\n",
              "      <th>1</th>\n",
              "      <td>ok nothing special charge diamond member hilto...</td>\n",
              "      <td>2</td>\n",
              "      <td>0</td>\n",
              "    </tr>\n",
              "    <tr>\n",
              "      <th>2</th>\n",
              "      <td>nice rooms not 4 experience hotel monaco seatt...</td>\n",
              "      <td>3</td>\n",
              "      <td>0</td>\n",
              "    </tr>\n",
              "    <tr>\n",
              "      <th>3</th>\n",
              "      <td>unique great stay wonderful time hotel monaco ...</td>\n",
              "      <td>5</td>\n",
              "      <td>1</td>\n",
              "    </tr>\n",
              "    <tr>\n",
              "      <th>4</th>\n",
              "      <td>great stay great stay went seahawk game awesom...</td>\n",
              "      <td>5</td>\n",
              "      <td>1</td>\n",
              "    </tr>\n",
              "  </tbody>\n",
              "</table>\n",
              "</div>\n",
              "      <button class=\"colab-df-convert\" onclick=\"convertToInteractive('df-2e2ca2e5-417c-4bf1-9336-208bda879f47')\"\n",
              "              title=\"Convert this dataframe to an interactive table.\"\n",
              "              style=\"display:none;\">\n",
              "        \n",
              "  <svg xmlns=\"http://www.w3.org/2000/svg\" height=\"24px\"viewBox=\"0 0 24 24\"\n",
              "       width=\"24px\">\n",
              "    <path d=\"M0 0h24v24H0V0z\" fill=\"none\"/>\n",
              "    <path d=\"M18.56 5.44l.94 2.06.94-2.06 2.06-.94-2.06-.94-.94-2.06-.94 2.06-2.06.94zm-11 1L8.5 8.5l.94-2.06 2.06-.94-2.06-.94L8.5 2.5l-.94 2.06-2.06.94zm10 10l.94 2.06.94-2.06 2.06-.94-2.06-.94-.94-2.06-.94 2.06-2.06.94z\"/><path d=\"M17.41 7.96l-1.37-1.37c-.4-.4-.92-.59-1.43-.59-.52 0-1.04.2-1.43.59L10.3 9.45l-7.72 7.72c-.78.78-.78 2.05 0 2.83L4 21.41c.39.39.9.59 1.41.59.51 0 1.02-.2 1.41-.59l7.78-7.78 2.81-2.81c.8-.78.8-2.07 0-2.86zM5.41 20L4 18.59l7.72-7.72 1.47 1.35L5.41 20z\"/>\n",
              "  </svg>\n",
              "      </button>\n",
              "      \n",
              "  <style>\n",
              "    .colab-df-container {\n",
              "      display:flex;\n",
              "      flex-wrap:wrap;\n",
              "      gap: 12px;\n",
              "    }\n",
              "\n",
              "    .colab-df-convert {\n",
              "      background-color: #E8F0FE;\n",
              "      border: none;\n",
              "      border-radius: 50%;\n",
              "      cursor: pointer;\n",
              "      display: none;\n",
              "      fill: #1967D2;\n",
              "      height: 32px;\n",
              "      padding: 0 0 0 0;\n",
              "      width: 32px;\n",
              "    }\n",
              "\n",
              "    .colab-df-convert:hover {\n",
              "      background-color: #E2EBFA;\n",
              "      box-shadow: 0px 1px 2px rgba(60, 64, 67, 0.3), 0px 1px 3px 1px rgba(60, 64, 67, 0.15);\n",
              "      fill: #174EA6;\n",
              "    }\n",
              "\n",
              "    [theme=dark] .colab-df-convert {\n",
              "      background-color: #3B4455;\n",
              "      fill: #D2E3FC;\n",
              "    }\n",
              "\n",
              "    [theme=dark] .colab-df-convert:hover {\n",
              "      background-color: #434B5C;\n",
              "      box-shadow: 0px 1px 3px 1px rgba(0, 0, 0, 0.15);\n",
              "      filter: drop-shadow(0px 1px 2px rgba(0, 0, 0, 0.3));\n",
              "      fill: #FFFFFF;\n",
              "    }\n",
              "  </style>\n",
              "\n",
              "      <script>\n",
              "        const buttonEl =\n",
              "          document.querySelector('#df-2e2ca2e5-417c-4bf1-9336-208bda879f47 button.colab-df-convert');\n",
              "        buttonEl.style.display =\n",
              "          google.colab.kernel.accessAllowed ? 'block' : 'none';\n",
              "\n",
              "        async function convertToInteractive(key) {\n",
              "          const element = document.querySelector('#df-2e2ca2e5-417c-4bf1-9336-208bda879f47');\n",
              "          const dataTable =\n",
              "            await google.colab.kernel.invokeFunction('convertToInteractive',\n",
              "                                                     [key], {});\n",
              "          if (!dataTable) return;\n",
              "\n",
              "          const docLinkHtml = 'Like what you see? Visit the ' +\n",
              "            '<a target=\"_blank\" href=https://colab.research.google.com/notebooks/data_table.ipynb>data table notebook</a>'\n",
              "            + ' to learn more about interactive tables.';\n",
              "          element.innerHTML = '';\n",
              "          dataTable['output_type'] = 'display_data';\n",
              "          await google.colab.output.renderOutput(dataTable, element);\n",
              "          const docLink = document.createElement('div');\n",
              "          docLink.innerHTML = docLinkHtml;\n",
              "          element.appendChild(docLink);\n",
              "        }\n",
              "      </script>\n",
              "    </div>\n",
              "  </div>\n",
              "  "
            ]
          },
          "metadata": {},
          "execution_count": 8
        }
      ],
      "source": [
        "# 소문자화 & 정규표현식 적용\n",
        "import re\n",
        "\n",
        "def lower_and_regex(text):\n",
        "  text = re.sub(r\"[^\\w ]\", \"\", text)\n",
        "  text = text.lower()\n",
        "  return text\n",
        "\n",
        "df['reviews'] = df['reviews'].apply(lower_and_regex)\n",
        "df.head()"
      ]
    },
    {
      "cell_type": "code",
      "execution_count": null,
      "metadata": {
        "colab": {
          "base_uri": "https://localhost:8080/",
          "height": 206
        },
        "id": "6492p9AZEe5Q",
        "outputId": "6c139e7d-6678-4f30-9308-cde38a01c219"
      },
      "outputs": [
        {
          "output_type": "execute_result",
          "data": {
            "text/plain": [
              "                                             reviews  rating  label  \\\n",
              "0  nice hotel expensive parking got good deal sta...       4      1   \n",
              "1  ok nothing special charge diamond member hilto...       2      0   \n",
              "2  nice rooms not 4 experience hotel monaco seatt...       3      0   \n",
              "3  unique great stay wonderful time hotel monaco ...       5      1   \n",
              "4  great stay great stay went seahawk game awesom...       5      1   \n",
              "\n",
              "                                 review_lemma_tokens  \n",
              "0  nice hotel expensive park get good deal stay h...  \n",
              "1  okay special charge diamond member hilton deci...  \n",
              "2  nice room 4 experience hotel monaco seattle go...  \n",
              "3  unique great stay wonderful time hotel monaco ...  \n",
              "4  great stay great stay go seahawk game awesome ...  "
            ],
            "text/html": [
              "\n",
              "  <div id=\"df-ac3e3a3f-871e-46e5-b9ce-ba3256653691\">\n",
              "    <div class=\"colab-df-container\">\n",
              "      <div>\n",
              "<style scoped>\n",
              "    .dataframe tbody tr th:only-of-type {\n",
              "        vertical-align: middle;\n",
              "    }\n",
              "\n",
              "    .dataframe tbody tr th {\n",
              "        vertical-align: top;\n",
              "    }\n",
              "\n",
              "    .dataframe thead th {\n",
              "        text-align: right;\n",
              "    }\n",
              "</style>\n",
              "<table border=\"1\" class=\"dataframe\">\n",
              "  <thead>\n",
              "    <tr style=\"text-align: right;\">\n",
              "      <th></th>\n",
              "      <th>reviews</th>\n",
              "      <th>rating</th>\n",
              "      <th>label</th>\n",
              "      <th>review_lemma_tokens</th>\n",
              "    </tr>\n",
              "  </thead>\n",
              "  <tbody>\n",
              "    <tr>\n",
              "      <th>0</th>\n",
              "      <td>nice hotel expensive parking got good deal sta...</td>\n",
              "      <td>4</td>\n",
              "      <td>1</td>\n",
              "      <td>nice hotel expensive park get good deal stay h...</td>\n",
              "    </tr>\n",
              "    <tr>\n",
              "      <th>1</th>\n",
              "      <td>ok nothing special charge diamond member hilto...</td>\n",
              "      <td>2</td>\n",
              "      <td>0</td>\n",
              "      <td>okay special charge diamond member hilton deci...</td>\n",
              "    </tr>\n",
              "    <tr>\n",
              "      <th>2</th>\n",
              "      <td>nice rooms not 4 experience hotel monaco seatt...</td>\n",
              "      <td>3</td>\n",
              "      <td>0</td>\n",
              "      <td>nice room 4 experience hotel monaco seattle go...</td>\n",
              "    </tr>\n",
              "    <tr>\n",
              "      <th>3</th>\n",
              "      <td>unique great stay wonderful time hotel monaco ...</td>\n",
              "      <td>5</td>\n",
              "      <td>1</td>\n",
              "      <td>unique great stay wonderful time hotel monaco ...</td>\n",
              "    </tr>\n",
              "    <tr>\n",
              "      <th>4</th>\n",
              "      <td>great stay great stay went seahawk game awesom...</td>\n",
              "      <td>5</td>\n",
              "      <td>1</td>\n",
              "      <td>great stay great stay go seahawk game awesome ...</td>\n",
              "    </tr>\n",
              "  </tbody>\n",
              "</table>\n",
              "</div>\n",
              "      <button class=\"colab-df-convert\" onclick=\"convertToInteractive('df-ac3e3a3f-871e-46e5-b9ce-ba3256653691')\"\n",
              "              title=\"Convert this dataframe to an interactive table.\"\n",
              "              style=\"display:none;\">\n",
              "        \n",
              "  <svg xmlns=\"http://www.w3.org/2000/svg\" height=\"24px\"viewBox=\"0 0 24 24\"\n",
              "       width=\"24px\">\n",
              "    <path d=\"M0 0h24v24H0V0z\" fill=\"none\"/>\n",
              "    <path d=\"M18.56 5.44l.94 2.06.94-2.06 2.06-.94-2.06-.94-.94-2.06-.94 2.06-2.06.94zm-11 1L8.5 8.5l.94-2.06 2.06-.94-2.06-.94L8.5 2.5l-.94 2.06-2.06.94zm10 10l.94 2.06.94-2.06 2.06-.94-2.06-.94-.94-2.06-.94 2.06-2.06.94z\"/><path d=\"M17.41 7.96l-1.37-1.37c-.4-.4-.92-.59-1.43-.59-.52 0-1.04.2-1.43.59L10.3 9.45l-7.72 7.72c-.78.78-.78 2.05 0 2.83L4 21.41c.39.39.9.59 1.41.59.51 0 1.02-.2 1.41-.59l7.78-7.78 2.81-2.81c.8-.78.8-2.07 0-2.86zM5.41 20L4 18.59l7.72-7.72 1.47 1.35L5.41 20z\"/>\n",
              "  </svg>\n",
              "      </button>\n",
              "      \n",
              "  <style>\n",
              "    .colab-df-container {\n",
              "      display:flex;\n",
              "      flex-wrap:wrap;\n",
              "      gap: 12px;\n",
              "    }\n",
              "\n",
              "    .colab-df-convert {\n",
              "      background-color: #E8F0FE;\n",
              "      border: none;\n",
              "      border-radius: 50%;\n",
              "      cursor: pointer;\n",
              "      display: none;\n",
              "      fill: #1967D2;\n",
              "      height: 32px;\n",
              "      padding: 0 0 0 0;\n",
              "      width: 32px;\n",
              "    }\n",
              "\n",
              "    .colab-df-convert:hover {\n",
              "      background-color: #E2EBFA;\n",
              "      box-shadow: 0px 1px 2px rgba(60, 64, 67, 0.3), 0px 1px 3px 1px rgba(60, 64, 67, 0.15);\n",
              "      fill: #174EA6;\n",
              "    }\n",
              "\n",
              "    [theme=dark] .colab-df-convert {\n",
              "      background-color: #3B4455;\n",
              "      fill: #D2E3FC;\n",
              "    }\n",
              "\n",
              "    [theme=dark] .colab-df-convert:hover {\n",
              "      background-color: #434B5C;\n",
              "      box-shadow: 0px 1px 3px 1px rgba(0, 0, 0, 0.15);\n",
              "      filter: drop-shadow(0px 1px 2px rgba(0, 0, 0, 0.3));\n",
              "      fill: #FFFFFF;\n",
              "    }\n",
              "  </style>\n",
              "\n",
              "      <script>\n",
              "        const buttonEl =\n",
              "          document.querySelector('#df-ac3e3a3f-871e-46e5-b9ce-ba3256653691 button.colab-df-convert');\n",
              "        buttonEl.style.display =\n",
              "          google.colab.kernel.accessAllowed ? 'block' : 'none';\n",
              "\n",
              "        async function convertToInteractive(key) {\n",
              "          const element = document.querySelector('#df-ac3e3a3f-871e-46e5-b9ce-ba3256653691');\n",
              "          const dataTable =\n",
              "            await google.colab.kernel.invokeFunction('convertToInteractive',\n",
              "                                                     [key], {});\n",
              "          if (!dataTable) return;\n",
              "\n",
              "          const docLinkHtml = 'Like what you see? Visit the ' +\n",
              "            '<a target=\"_blank\" href=https://colab.research.google.com/notebooks/data_table.ipynb>data table notebook</a>'\n",
              "            + ' to learn more about interactive tables.';\n",
              "          element.innerHTML = '';\n",
              "          dataTable['output_type'] = 'display_data';\n",
              "          await google.colab.output.renderOutput(dataTable, element);\n",
              "          const docLink = document.createElement('div');\n",
              "          docLink.innerHTML = docLinkHtml;\n",
              "          element.appendChild(docLink);\n",
              "        }\n",
              "      </script>\n",
              "    </div>\n",
              "  </div>\n",
              "  "
            ]
          },
          "metadata": {},
          "execution_count": 9
        }
      ],
      "source": [
        "# SpaCy 라이브러리 이용한 불용어처리, 표제어처리\n",
        "import spacy\n",
        "from spacy.tokenizer import Tokenizer\n",
        "\n",
        "nlp = spacy.load('en_core_web_sm')\n",
        "tokenizer = Tokenizer(nlp.vocab)\n",
        "\n",
        "def stop_and_lemma(sentences):\n",
        "  total = []\n",
        "  i =  0\n",
        "  for sent in tokenizer.pipe(sentences):\n",
        "    lemma_sent = []\n",
        "    for word in sent:\n",
        "      if (word.is_stop == False) and (word.is_punct ==  False) and (word.pos_ != 'PRON'):\n",
        "        lem_token = word.lemma_\n",
        "        lemma_sent.extend(lem_token + ' ')\n",
        "    sentence = \"\".join(lemma_sent).rstrip()\n",
        "    total.append(sentence)\n",
        "  return total\n",
        "\n",
        "df['review_lemma_tokens'] = stop_and_lemma(df['reviews'])\n",
        "df.head()"
      ]
    },
    {
      "cell_type": "code",
      "execution_count": null,
      "metadata": {
        "colab": {
          "base_uri": "https://localhost:8080/"
        },
        "id": "IwVwHsa-6soc",
        "outputId": "e9d3b51a-b189-42fb-e63f-8fa6e9e35605"
      },
      "outputs": [
        {
          "output_type": "stream",
          "name": "stdout",
          "text": [
            "Requirement already satisfied: gensim in /usr/local/lib/python3.7/dist-packages (3.6.0)\n",
            "Collecting gensim\n",
            "  Downloading gensim-4.2.0-cp37-cp37m-manylinux_2_12_x86_64.manylinux2010_x86_64.whl (24.1 MB)\n",
            "\u001b[K     |████████████████████████████████| 24.1 MB 1.7 MB/s \n",
            "\u001b[?25hRequirement already satisfied: numpy>=1.17.0 in /usr/local/lib/python3.7/dist-packages (from gensim) (1.21.6)\n",
            "Requirement already satisfied: scipy>=0.18.1 in /usr/local/lib/python3.7/dist-packages (from gensim) (1.4.1)\n",
            "Requirement already satisfied: smart-open>=1.8.1 in /usr/local/lib/python3.7/dist-packages (from gensim) (6.0.0)\n",
            "Installing collected packages: gensim\n",
            "  Attempting uninstall: gensim\n",
            "    Found existing installation: gensim 3.6.0\n",
            "    Uninstalling gensim-3.6.0:\n",
            "      Successfully uninstalled gensim-3.6.0\n",
            "Successfully installed gensim-4.2.0\n"
          ]
        }
      ],
      "source": [
        "!pip install gensim --upgrade # gensim 라이브러리 업데이트 해줘야 원하는 기능 쓸 수 있음"
      ]
    },
    {
      "cell_type": "code",
      "execution_count": null,
      "metadata": {
        "id": "luVrXOj_7qT7",
        "colab": {
          "base_uri": "https://localhost:8080/"
        },
        "outputId": "8c9e8f22-94fd-45dc-be8d-86b48213d910"
      },
      "outputs": [
        {
          "output_type": "stream",
          "name": "stdout",
          "text": [
            "[==================================================] 100.0% 1662.8/1662.8MB downloaded\n"
          ]
        }
      ],
      "source": [
        "import gensim.downloader as api\n",
        "# 워드임베딩 사전학습된 값 호출\n",
        "wv = api.load('word2vec-google-news-300')"
      ]
    },
    {
      "cell_type": "code",
      "execution_count": null,
      "metadata": {
        "colab": {
          "base_uri": "https://localhost:8080/"
        },
        "id": "X_QoauXbdFGG",
        "outputId": "5753d97a-809f-4d34-d99a-f5734f167ee9"
      },
      "outputs": [
        {
          "output_type": "execute_result",
          "data": {
            "text/plain": [
              "['</s>', 'in', 'for', 'that', 'is', 'on', '##', 'The', 'with', 'said']"
            ]
          },
          "metadata": {},
          "execution_count": 12
        }
      ],
      "source": [
        "wv.index_to_key[:10]"
      ]
    },
    {
      "cell_type": "code",
      "execution_count": null,
      "metadata": {
        "colab": {
          "base_uri": "https://localhost:8080/"
        },
        "id": "dYdd8jBm_QrQ",
        "outputId": "b403dbe1-8df6-4c38-dec4-c2361275a48c"
      },
      "outputs": [
        {
          "output_type": "stream",
          "name": "stdout",
          "text": [
            "hotel 1\n",
            "--------\n",
            "room 2\n",
            "--------\n",
            "stay 3\n",
            "--------\n",
            "great 4\n",
            "--------\n",
            "not 5\n",
            "--------\n",
            "good 6\n",
            "--------\n",
            "학습한 단어수 : 72214\n",
            "빈도가 큰 기준으로 보전한 단어수 : 50,000\n"
          ]
        }
      ],
      "source": [
        "# 케라스 Tokenizer로 표제어처리된 review 단어별 인덱스화\n",
        "from tensorflow.keras.preprocessing.text import Tokenizer\n",
        "\n",
        "tokenizer = Tokenizer(num_words=50000)\n",
        "tokenizer.fit_on_texts(df['review_lemma_tokens'])\n",
        "\n",
        "for i, key in enumerate(tokenizer.word_index):\n",
        "  print(key, tokenizer.word_index[key])\n",
        "  print('--------')\n",
        "  if i == 5:\n",
        "    break\n",
        "\n",
        "\n",
        "print(\"학습한 단어수 : {}\".format(len(tokenizer.word_index)))\n",
        "print(\"빈도가 큰 기준으로 보전한 단어수 : 50,000\")"
      ]
    },
    {
      "cell_type": "code",
      "execution_count": null,
      "metadata": {
        "colab": {
          "base_uri": "https://localhost:8080/"
        },
        "id": "XA80GGWXK-Pi",
        "outputId": "ce22c2a5-329b-4d9e-de3e-cfddeab0836e"
      },
      "outputs": [
        {
          "output_type": "stream",
          "name": "stdout",
          "text": [
            "문장0 : [9, 1, 190, 102, 25, 6, 213, 3, 1, 829, 89, 127, 198, 51, 679, 476, 55, 676, 102, 53, 375, 153, 36, 225, 2734, 38, 2, 2, 13, 9, 148, 27, 67, 699, 4447, 4064, 167, 390, 1967, 21, 196, 405, 2, 8, 97, 557, 1621, 98, 120, 68, 196, 32, 445, 833, 403, 353, 1622, 2563, 307, 1240, 9, 5914, 3, 9, 374, 51, 925, 3, 108, 12, 4, 15, 212, 86, 164, 9, 83, 173, 74, 884, 102, 8]\n",
            "문장 내 단어 수 : 82 \n",
            "\n",
            "문장1 : [116, 266, 182, 1396, 462, 483, 298, 773, 1956, 2237, 829, 510, 208, 34, 130, 74, 180, 359, 2362, 130, 363, 40, 187, 1, 2, 51, 1144, 156, 66, 260, 101, 61, 21, 184, 1423, 3312, 66, 953, 87, 732, 671, 130, 2362, 2979, 359, 1098, 80, 20, 25, 158, 1650, 958, 227, 2, 40, 363, 1241, 2979, 166, 130, 65, 10, 3, 129, 1346, 3570, 1116, 496, 2979, 658, 117, 359, 452, 60, 7163, 199, 130, 1116, 359, 156, 2362, 936, 194, 2262, 156, 5414, 359, 66, 302, 1487, 1938, 3519, 496, 452, 45, 117, 5568, 569, 452, 2539, 559, 87, 645, 9917, 7, 807, 2735, 43, 60, 66, 6, 20, 396, 687, 12293, 87, 1, 10897, 18, 20, 396, 510, 365, 157, 84, 303, 1, 92, 2220, 89, 127, 8, 755, 485, 551, 202, 1587, 308, 25170, 2000, 362, 143, 25171, 313, 452, 1, 905, 2237, 829, 366, 979, 33, 128, 6, 25, 9, 452, 101, 21, 739, 248, 701, 651, 688, 2341, 2, 313, 1092, 87, 47, 4359, 390, 313, 701, 2341, 4359, 390, 4, 2, 38, 1796, 167, 1539, 185, 6, 18, 474, 7, 13, 2, 247, 434, 56, 97, 86, 2, 25, 207, 45, 28, 90, 27, 25172, 6, 25173, 1001, 94, 2564, 94, 1957, 649, 147, 1048, 2845, 509, 1103, 8, 205, 2613, 4759, 25174, 94, 208, 1, 13, 219, 1, 578, 167, 126, 18, 773, 1, 510]\n",
            "문장 내 단어 수 : 234 \n",
            "\n",
            "문장2 : [9, 2, 94, 83, 1, 3740, 510, 6, 1, 5, 94, 25175, 70, 40, 2590, 130, 67, 27, 25176, 474, 12294, 520, 1158, 5269, 3, 66, 3741, 335, 71, 528, 3192, 166, 279, 308, 194, 374, 5, 199, 5715, 266, 25177, 194, 124, 2285, 542, 2221, 130, 1104, 2119, 298, 34, 2590, 130, 71, 8, 233, 3, 959, 168, 364, 391, 813, 1579, 774, 109, 852, 8, 70, 241, 7988, 2, 4, 1561, 414, 3347, 1540, 9, 25178, 3, 1, 785, 181, 14, 44, 6093, 162, 394, 601, 112, 25179, 153, 924, 2, 327, 28, 251, 7989, 414, 307, 5716, 2300, 3042, 307, 5, 3, 8, 25, 25180, 53, 1818, 248, 701, 9, 2764, 541, 112, 2, 949, 2, 186, 120, 287, 58, 2, 88, 184, 160, 84, 27, 6552, 209, 763, 2285, 2221, 294, 25181, 97, 73, 60, 66, 53, 3009, 101, 25182, 7164, 28, 1373, 281, 63, 688, 323, 8, 1008, 594, 205, 240, 25, 2, 8, 959, 795, 66, 166, 9918, 52, 41, 3009, 87, 382, 5270, 226, 3571, 1082, 589, 5, 76, 60, 3192, 2190, 97, 5, 436, 166, 127, 2090, 2275, 3192, 449, 2190, 3192, 97, 6838, 17759, 40, 290, 4, 2, 285, 2, 641, 3347, 307, 414, 5, 307, 446, 4, 191, 48, 1540, 24]\n",
            "문장 내 단어 수 : 211 \n",
            "\n"
          ]
        }
      ],
      "source": [
        "# 할당된 인덱스로 문장 채우기 \n",
        "X_encoded = tokenizer.texts_to_sequences(df['review_lemma_tokens'])\n",
        "\n",
        "for i, sent in enumerate(X_encoded):\n",
        "  print(f\"문장{i} : {sent}\")\n",
        "  print(f\"문장 내 단어 수 : {len(sent)}\", '\\n')\n",
        "  if i == 2:\n",
        "    break"
      ]
    },
    {
      "cell_type": "code",
      "execution_count": null,
      "metadata": {
        "colab": {
          "base_uri": "https://localhost:8080/"
        },
        "id": "2cxvenMlOhif",
        "outputId": "c40db841-0973-4611-c3ae-5660e6577072"
      },
      "outputs": [
        {
          "output_type": "stream",
          "name": "stdout",
          "text": [
            "문장 내 최대 단어수 : 1843\n",
            "문장 평균 단어수 : 98.76\n"
          ]
        }
      ],
      "source": [
        "len_sent = []\n",
        "for sent in X_encoded:\n",
        "  len_sent.append(len(sent))\n",
        "\n",
        "print(f\"문장 내 최대 단어수 : {np.max(len_sent)}\")\n",
        "print(f\"문장 평균 단어수 : {np.mean(len_sent):.2f}\")"
      ]
    },
    {
      "cell_type": "code",
      "execution_count": null,
      "metadata": {
        "colab": {
          "base_uri": "https://localhost:8080/",
          "height": 699
        },
        "id": "7EZ49_PRR0r6",
        "outputId": "b673942a-7700-4d5a-bb30-55143798d693"
      },
      "outputs": [
        {
          "output_type": "stream",
          "name": "stderr",
          "text": [
            "/usr/local/lib/python3.7/dist-packages/seaborn/distributions.py:2619: FutureWarning: `distplot` is a deprecated function and will be removed in a future version. Please adapt your code to use either `displot` (a figure-level function with similar flexibility) or `histplot` (an axes-level function for histograms).\n",
            "  warnings.warn(msg, FutureWarning)\n",
            "/usr/local/lib/python3.7/dist-packages/seaborn/distributions.py:2619: FutureWarning: `distplot` is a deprecated function and will be removed in a future version. Please adapt your code to use either `displot` (a figure-level function with similar flexibility) or `histplot` (an axes-level function for histograms).\n",
            "  warnings.warn(msg, FutureWarning)\n"
          ]
        },
        {
          "output_type": "display_data",
          "data": {
            "text/plain": [
              "<Figure size 576x720 with 2 Axes>"
            ],
            "image/png": "[encoded data removed]"
          },
          "metadata": {
            "needs_background": "light"
          }
        }
      ],
      "source": [
        "# 패딩 값 어떻게 할 지 확인\n",
        "temp = pd.DataFrame(len_sent, columns=['sentence length'])\n",
        "\n",
        "fig, ax = plt.subplots(1,2, figsize=(8, 10))\n",
        "sns.distplot(temp['sentence length'], bins=50, ax=ax[0])\n",
        "sns.distplot(temp['sentence length'], bins=50, ax=ax[1])\n",
        "ax[1].set_xlim([0, 250])\n",
        "plt.show()"
      ]
    },
    {
      "cell_type": "code",
      "execution_count": null,
      "metadata": {
        "colab": {
          "base_uri": "https://localhost:8080/"
        },
        "id": "WSqhO02kPn5m",
        "outputId": "ab02c6ab-ace4-4d1b-e85e-c7623faf6e0f"
      },
      "outputs": [
        {
          "output_type": "execute_result",
          "data": {
            "text/plain": [
              "array([[ 0.        ,  0.        ,  0.        , ...,  0.        ,\n",
              "         0.        ,  0.        ],\n",
              "       [ 0.02612305,  0.0144043 , -0.03442383, ...,  0.15625   ,\n",
              "         0.09960938,  0.12695312],\n",
              "       [ 0.02624512,  0.1328125 , -0.0234375 , ...,  0.12158203,\n",
              "        -0.1328125 ,  0.10302734],\n",
              "       ...,\n",
              "       [-0.17578125,  0.00098419, -0.00341797, ..., -0.11474609,\n",
              "        -0.13378906, -0.05834961],\n",
              "       [ 0.01574707,  0.07666016, -0.03222656, ..., -0.1171875 ,\n",
              "         0.16894531, -0.05126953],\n",
              "       [ 0.15820312,  0.10595703, -0.18945312, ..., -0.26757812,\n",
              "         0.00836182, -0.21386719]])"
            ]
          },
          "metadata": {},
          "execution_count": 17
        }
      ],
      "source": [
        "# 패딩 고려해서 +1(oov까지 고려할거면 +2)\n",
        "vocab_size = len(tokenizer.word_index) + 1\n",
        "\n",
        "# 임베딩벡터 행렬 세팅\n",
        "embedding_matrix = np.zeros((vocab_size, 300))\n",
        "\n",
        "def get_vector(word):\n",
        "  if word in wv:\n",
        "    embedding_vector = wv[word]\n",
        "    return embedding_vector\n",
        "  else:\n",
        "    return None\n",
        "\n",
        "# 사용할 임베딩벡터 제작 \n",
        "for word, index in tokenizer.word_index.items():\n",
        "  if get_vector(word) is not None:\n",
        "    embedding_matrix[index] = get_vector(word)\n",
        "\n",
        "embedding_matrix[:10]"
      ]
    },
    {
      "cell_type": "code",
      "execution_count": null,
      "metadata": {
        "colab": {
          "base_uri": "https://localhost:8080/"
        },
        "id": "fyCgdDwKVPsn",
        "outputId": "d3f79753-2301-4132-9d42-8c9064e2c291"
      },
      "outputs": [
        {
          "output_type": "stream",
          "name": "stdout",
          "text": [
            "패딩처리 된 문장 길이 : 120\n"
          ]
        },
        {
          "output_type": "execute_result",
          "data": {
            "text/plain": [
              "array([[    9,     1,   190, ...,     0,     0,     0],\n",
              "       [  116,   266,   182, ..., 10897,    18,    20],\n",
              "       [    9,     2,    94, ...,   949,     2,   186],\n",
              "       ...,\n",
              "       [   37,     7,   474, ...,     0,     0,     0],\n",
              "       [    1,     3,     1, ...,     0,     0,     0],\n",
              "       [   37,     3,     1, ...,     0,     0,     0]], dtype=int32)"
            ]
          },
          "metadata": {},
          "execution_count": 18
        }
      ],
      "source": [
        "# 문장 패딩처리\n",
        "from tensorflow.keras.preprocessing.sequence import pad_sequences \n",
        "\n",
        "x = pad_sequences(X_encoded, maxlen=120, truncating='post', padding='post')\n",
        "print(f\"패딩처리 된 문장 길이 : {len(x[0])}\")\n",
        "x[:10]"
      ]
    },
    {
      "cell_type": "code",
      "execution_count": null,
      "metadata": {
        "colab": {
          "base_uri": "https://localhost:8080/"
        },
        "id": "a7iiU4OLZlp7",
        "outputId": "f02d41e3-a524-4b10-fafa-4fbef684da50"
      },
      "outputs": [
        {
          "output_type": "stream",
          "name": "stdout",
          "text": [
            "(16392, 120) (16392,)\n",
            "(4099, 120) (4099,) \n",
            "\n",
            "[[ 604 1037  152   12   33    3  249   12  465 3160 3877    1  700 1331\n",
            "    30   53   55   45  768  298   34  337 1710   12  646  207   15 2662\n",
            "   822  498  142   12  253   13    1    3   20    6  216  612   93  859\n",
            "   445  870  612    7  604   31 1594  269  142  289  939  182  312  242\n",
            "   533  132   25  465  138  176  670    1  948  126   49   45 1213  767\n",
            "  3160 3877  465    1    3   24  465 1625 3160 3877    0    0    0    0\n",
            "     0    0    0    0    0    0    0    0    0    0    0    0    0    0\n",
            "     0    0    0    0    0    0    0    0    0    0    0    0    0    0\n",
            "     0    0    0    0    0    0    0    0]]\n",
            "11710    1\n",
            "Name: label, dtype: int64\n"
          ]
        }
      ],
      "source": [
        "# 데이터분리\n",
        "from sklearn.model_selection import train_test_split\n",
        "\n",
        "x_train, x_test, y_train, y_test = train_test_split(x, df['label'], test_size=.2, random_state=42)\n",
        "\n",
        "print(x_train.shape, y_train.shape)\n",
        "print(x_test.shape, y_test.shape, '\\n')\n",
        "\n",
        "print(x_train[:1])\n",
        "print(y_train[:1])"
      ]
    },
    {
      "cell_type": "code",
      "execution_count": null,
      "metadata": {
        "colab": {
          "base_uri": "https://localhost:8080/"
        },
        "id": "_GOpm7mlTsp7",
        "outputId": "9c173ab3-3460-4e18-b2e3-ae5be992fcc8"
      },
      "outputs": [
        {
          "output_type": "stream",
          "name": "stdout",
          "text": [
            "Model: \"sequential\"\n",
            "_________________________________________________________________\n",
            " Layer (type)                Output Shape              Param #   \n",
            "=================================================================\n",
            " embedding (Embedding)       (None, 120, 300)          21664500  \n",
            "                                                                 \n",
            " lstm (LSTM)                 (None, 128)               219648    \n",
            "                                                                 \n",
            " dense (Dense)               (None, 64)                8256      \n",
            "                                                                 \n",
            " dense_1 (Dense)             (None, 32)                2080      \n",
            "                                                                 \n",
            " dense_2 (Dense)             (None, 16)                528       \n",
            "                                                                 \n",
            " dense_3 (Dense)             (None, 1)                 17        \n",
            "                                                                 \n",
            "=================================================================\n",
            "Total params: 21,895,029\n",
            "Trainable params: 230,529\n",
            "Non-trainable params: 21,664,500\n",
            "_________________________________________________________________\n"
          ]
        }
      ],
      "source": [
        "# 감정분석 예측모델 개발\n",
        "from tensorflow.keras.layers import Dense, Embedding, GlobalAveragePooling1D, LSTM\n",
        "from tensorflow.keras.models import Sequential, Model\n",
        "\n",
        "lstm = Sequential()\n",
        "lstm.add(Embedding(vocab_size, 300, input_length=120, weights=[embedding_matrix], trainable=False))\n",
        "lstm.add(LSTM(128))\n",
        "#model.add(GlobalAveragePooling1D())\n",
        "lstm.add(Dense(64, activation='relu'))\n",
        "lstm.add(Dense(32, activation='relu'))\n",
        "lstm.add(Dense(16, activation='relu'))\n",
        "lstm.add(Dense(1, activation='sigmoid'))\n",
        "\n",
        "lstm.summary()"
      ]
    },
    {
      "cell_type": "code",
      "execution_count": null,
      "metadata": {
        "colab": {
          "base_uri": "https://localhost:8080/"
        },
        "id": "HehSfEHdZTha",
        "outputId": "9c0a5708-50ce-4bc2-a53d-2c147adb0a65"
      },
      "outputs": [
        {
          "output_type": "stream",
          "name": "stdout",
          "text": [
            "Epoch 1/100\n",
            "410/410 [==============================] - ETA: 0s - loss: 0.5857 - accuracy: 0.7281\n",
            "Epoch 1: val_loss improved from inf to 0.56453, saving model to lstm_best.hdf5\n",
            "410/410 [==============================] - 173s 391ms/step - loss: 0.5857 - accuracy: 0.7281 - val_loss: 0.5645 - val_accuracy: 0.7399\n",
            "Epoch 2/100\n",
            "410/410 [==============================] - ETA: 0s - loss: 0.4273 - accuracy: 0.8114\n",
            "Epoch 2: val_loss improved from 0.56453 to 0.31241, saving model to lstm_best.hdf5\n",
            "410/410 [==============================] - 102s 248ms/step - loss: 0.4273 - accuracy: 0.8114 - val_loss: 0.3124 - val_accuracy: 0.8737\n",
            "Epoch 3/100\n",
            "410/410 [==============================] - ETA: 0s - loss: 0.2842 - accuracy: 0.8864\n",
            "Epoch 3: val_loss improved from 0.31241 to 0.29095, saving model to lstm_best.hdf5\n",
            "410/410 [==============================] - 102s 249ms/step - loss: 0.2842 - accuracy: 0.8864 - val_loss: 0.2909 - val_accuracy: 0.8826\n",
            "Epoch 4/100\n",
            "410/410 [==============================] - ETA: 0s - loss: 0.2617 - accuracy: 0.8948\n",
            "Epoch 4: val_loss improved from 0.29095 to 0.27412, saving model to lstm_best.hdf5\n",
            "410/410 [==============================] - 107s 261ms/step - loss: 0.2617 - accuracy: 0.8948 - val_loss: 0.2741 - val_accuracy: 0.8872\n",
            "Epoch 5/100\n",
            "410/410 [==============================] - ETA: 0s - loss: 0.2765 - accuracy: 0.8937\n",
            "Epoch 5: val_loss did not improve from 0.27412\n",
            "410/410 [==============================] - 100s 243ms/step - loss: 0.2765 - accuracy: 0.8937 - val_loss: 0.2868 - val_accuracy: 0.8872\n",
            "Epoch 6/100\n",
            "410/410 [==============================] - ETA: 0s - loss: 0.2407 - accuracy: 0.9054\n",
            "Epoch 6: val_loss improved from 0.27412 to 0.26964, saving model to lstm_best.hdf5\n",
            "410/410 [==============================] - 101s 245ms/step - loss: 0.2407 - accuracy: 0.9054 - val_loss: 0.2696 - val_accuracy: 0.8905\n",
            "Epoch 7/100\n",
            "410/410 [==============================] - ETA: 0s - loss: 0.2190 - accuracy: 0.9140\n",
            "Epoch 7: val_loss did not improve from 0.26964\n",
            "410/410 [==============================] - 99s 242ms/step - loss: 0.2190 - accuracy: 0.9140 - val_loss: 0.2748 - val_accuracy: 0.8911\n",
            "Epoch 8/100\n",
            "410/410 [==============================] - ETA: 0s - loss: 0.2055 - accuracy: 0.9204\n",
            "Epoch 8: val_loss did not improve from 0.26964\n",
            "410/410 [==============================] - 100s 245ms/step - loss: 0.2055 - accuracy: 0.9204 - val_loss: 0.2751 - val_accuracy: 0.8923\n",
            "Epoch 9/100\n",
            "410/410 [==============================] - ETA: 0s - loss: 0.1936 - accuracy: 0.9243\n",
            "Epoch 9: val_loss did not improve from 0.26964\n",
            "410/410 [==============================] - 101s 247ms/step - loss: 0.1936 - accuracy: 0.9243 - val_loss: 0.2852 - val_accuracy: 0.8875\n",
            "Epoch 10/100\n",
            "410/410 [==============================] - ETA: 0s - loss: 0.1779 - accuracy: 0.9299\n",
            "Epoch 10: val_loss did not improve from 0.26964\n",
            "410/410 [==============================] - 99s 243ms/step - loss: 0.1779 - accuracy: 0.9299 - val_loss: 0.3044 - val_accuracy: 0.8869\n",
            "Epoch 11/100\n",
            "410/410 [==============================] - ETA: 0s - loss: 0.1623 - accuracy: 0.9383\n",
            "Epoch 11: val_loss did not improve from 0.26964\n",
            "410/410 [==============================] - 99s 243ms/step - loss: 0.1623 - accuracy: 0.9383 - val_loss: 0.3253 - val_accuracy: 0.8923\n",
            "Epoch 12/100\n",
            "410/410 [==============================] - ETA: 0s - loss: 0.1459 - accuracy: 0.9436\n",
            "Epoch 12: val_loss did not improve from 0.26964\n",
            "410/410 [==============================] - 99s 241ms/step - loss: 0.1459 - accuracy: 0.9436 - val_loss: 0.3367 - val_accuracy: 0.8896\n",
            "Epoch 13/100\n",
            "410/410 [==============================] - ETA: 0s - loss: 0.1224 - accuracy: 0.9537\n",
            "Epoch 13: val_loss did not improve from 0.26964\n",
            "410/410 [==============================] - 101s 246ms/step - loss: 0.1224 - accuracy: 0.9537 - val_loss: 0.3666 - val_accuracy: 0.8740\n",
            "Epoch 14/100\n",
            "410/410 [==============================] - ETA: 0s - loss: 0.1099 - accuracy: 0.9584\n",
            "Epoch 14: val_loss did not improve from 0.26964\n",
            "410/410 [==============================] - 101s 245ms/step - loss: 0.1099 - accuracy: 0.9584 - val_loss: 0.3706 - val_accuracy: 0.8847\n",
            "Epoch 15/100\n",
            "410/410 [==============================] - ETA: 0s - loss: 0.0884 - accuracy: 0.9692\n",
            "Epoch 15: val_loss did not improve from 0.26964\n",
            "410/410 [==============================] - 100s 245ms/step - loss: 0.0884 - accuracy: 0.9692 - val_loss: 0.4160 - val_accuracy: 0.8893\n",
            "Epoch 16/100\n",
            "410/410 [==============================] - ETA: 0s - loss: 0.0790 - accuracy: 0.9712\n",
            "Epoch 16: val_loss did not improve from 0.26964\n",
            "410/410 [==============================] - 103s 251ms/step - loss: 0.0790 - accuracy: 0.9712 - val_loss: 0.4392 - val_accuracy: 0.8756\n",
            "Epoch 16: early stopping\n"
          ]
        }
      ],
      "source": [
        "import tensorflow as tf\n",
        "\n",
        "lstm.compile(loss='binary_crossentropy',\n",
        "              optimizer='adam',\n",
        "              metrics=['accuracy'])\n",
        "\n",
        "early_stop = tf.keras.callbacks.EarlyStopping(\n",
        "                                              monitor='val_loss',\n",
        "                                              min_delta=0.001,\n",
        "                                              patience=10,\n",
        "                                              verbose=1\n",
        "                                              )\n",
        "\n",
        "save_best = tf.keras.callbacks.ModelCheckpoint(\n",
        "                                               filepath='lstm_best.hdf5',\n",
        "                                               monitor='val_loss',\n",
        "                                               verbose=1,\n",
        "                                               save_best_only=True,\n",
        "                                               save_weights_only=True,\n",
        "                                               mode='auto',\n",
        "                                               save_freq='epoch',\n",
        "                                               options=None\n",
        "                                              )\n",
        "\n",
        "result_lstm = lstm.fit(x_train, y_train,\n",
        "          epochs=100,\n",
        "          batch_size=32,\n",
        "          validation_split=.2,\n",
        "          callbacks=[early_stop, save_best])"
      ]
    },
    {
      "cell_type": "code",
      "source": [
        "plt.figure(figsize=(8, 6))\n",
        "plt.plot(result_lstm.history['accuracy'], c='r', label='train')\n",
        "plt.plot(result_lstm.history['val_accuracy'], c='b', label='validate')\n",
        "plt.legend()\n",
        "plt.xlabel('Epoch')\n",
        "plt.ylabel('Accuracy')\n",
        "plt.title('Accuracy changes by epoch')\n",
        "plt.show()"
      ],
      "metadata": {
        "colab": {
          "base_uri": "https://localhost:8080/",
          "height": 404
        },
        "id": "IQhDhnpkN4PL",
        "outputId": "69cd37ad-1aab-4444-9942-8a11e68bbe15"
      },
      "execution_count": null,
      "outputs": [
        {
          "output_type": "display_data",
          "data": {
            "text/plain": [
              "<Figure size 576x432 with 1 Axes>"
            ],
            "image/png": "[encoded data removed]"
          },
          "metadata": {
            "needs_background": "light"
          }
        }
      ]
    },
    {
      "cell_type": "code",
      "source": [
        "plt.figure(figsize=(8, 6))\n",
        "plt.plot(result_lstm.history['loss'], c='r', label='train')\n",
        "plt.plot(result_lstm.history['val_loss'], c='b', label='validate')\n",
        "plt.legend()\n",
        "plt.xlabel('Epoch')\n",
        "plt.ylabel('Loss')\n",
        "plt.title('Loss changes by epoch')\n",
        "plt.show()"
      ],
      "metadata": {
        "colab": {
          "base_uri": "https://localhost:8080/",
          "height": 404
        },
        "id": "PoG3TdinPqZw",
        "outputId": "b12d002c-0e5e-4cb2-9cc0-00ee55f731d0"
      },
      "execution_count": null,
      "outputs": [
        {
          "output_type": "display_data",
          "data": {
            "text/plain": [
              "<Figure size 576x432 with 1 Axes>"
            ],
            "image/png": "[encoded data removed]"
          },
          "metadata": {
            "needs_background": "light"
          }
        }
      ]
    },
    {
      "cell_type": "code",
      "source": [
        "# 감정분석 예측모델 개발\n",
        "from tensorflow.keras.layers import Dense, Embedding, GlobalAveragePooling1D, LSTM\n",
        "from tensorflow.keras.models import Sequential, Model\n",
        "\n",
        "global_avg = Sequential()\n",
        "global_avg.add(Embedding(vocab_size, 300, input_length=120, weights=[embedding_matrix], trainable=False))\n",
        "global_avg.add(GlobalAveragePooling1D())\n",
        "global_avg.add(Dense(64, activation='relu'))\n",
        "global_avg.add(Dense(32, activation='relu'))\n",
        "global_avg.add(Dense(16, activation='relu'))\n",
        "global_avg.add(Dense(1, activation='sigmoid'))\n",
        "\n",
        "global_avg.summary()"
      ],
      "metadata": {
        "colab": {
          "base_uri": "https://localhost:8080/"
        },
        "id": "0brr9k0Nh1fR",
        "outputId": "16f45401-8e8e-4ca5-af7e-61c945cb0686"
      },
      "execution_count": null,
      "outputs": [
        {
          "output_type": "stream",
          "name": "stdout",
          "text": [
            "Model: \"sequential_1\"\n",
            "_________________________________________________________________\n",
            " Layer (type)                Output Shape              Param #   \n",
            "=================================================================\n",
            " embedding_1 (Embedding)     (None, 120, 300)          21664500  \n",
            "                                                                 \n",
            " global_average_pooling1d (G  (None, 300)              0         \n",
            " lobalAveragePooling1D)                                          \n",
            "                                                                 \n",
            " dense_4 (Dense)             (None, 64)                19264     \n",
            "                                                                 \n",
            " dense_5 (Dense)             (None, 32)                2080      \n",
            "                                                                 \n",
            " dense_6 (Dense)             (None, 16)                528       \n",
            "                                                                 \n",
            " dense_7 (Dense)             (None, 1)                 17        \n",
            "                                                                 \n",
            "=================================================================\n",
            "Total params: 21,686,389\n",
            "Trainable params: 21,889\n",
            "Non-trainable params: 21,664,500\n",
            "_________________________________________________________________\n"
          ]
        }
      ]
    },
    {
      "cell_type": "code",
      "source": [
        "global_avg.compile(loss='binary_crossentropy',\n",
        "              optimizer='adam',\n",
        "              metrics=['accuracy'])\n",
        "\n",
        "early_stop_global_avg = tf.keras.callbacks.EarlyStopping(\n",
        "                                              monitor='val_loss',\n",
        "                                              min_delta=0.001,\n",
        "                                              patience=10,\n",
        "                                              verbose=1\n",
        "                                              )\n",
        "\n",
        "save_best_global_avg = tf.keras.callbacks.ModelCheckpoint(\n",
        "                                               filepath='global_avg_best.hdf5',\n",
        "                                               monitor='val_loss',\n",
        "                                               verbose=1,\n",
        "                                               save_best_only=True,\n",
        "                                               save_weights_only=True,\n",
        "                                               mode='auto',\n",
        "                                               save_freq='epoch',\n",
        "                                               options=None\n",
        "                                              )\n",
        "\n",
        "result_global_avg = global_avg.fit(x_train, y_train,\n",
        "          epochs=100,\n",
        "          batch_size=32,\n",
        "          validation_split=.2,\n",
        "          callbacks=[early_stop_global_avg, save_best_global_avg])"
      ],
      "metadata": {
        "colab": {
          "base_uri": "https://localhost:8080/"
        },
        "id": "JM-oGkSjh1aN",
        "outputId": "a00039bb-bd38-4169-e241-2e6760599e3c"
      },
      "execution_count": null,
      "outputs": [
        {
          "output_type": "stream",
          "name": "stdout",
          "text": [
            "Epoch 1/100\n",
            "403/410 [============================>.] - ETA: 0s - loss: 0.4361 - accuracy: 0.8074\n",
            "Epoch 1: val_loss improved from inf to 0.36094, saving model to global_avg_best.hdf5\n",
            "410/410 [==============================] - 3s 7ms/step - loss: 0.4361 - accuracy: 0.8077 - val_loss: 0.3609 - val_accuracy: 0.8515\n",
            "Epoch 2/100\n",
            "401/410 [============================>.] - ETA: 0s - loss: 0.3358 - accuracy: 0.8616\n",
            "Epoch 2: val_loss improved from 0.36094 to 0.33273, saving model to global_avg_best.hdf5\n",
            "410/410 [==============================] - 2s 6ms/step - loss: 0.3359 - accuracy: 0.8619 - val_loss: 0.3327 - val_accuracy: 0.8634\n",
            "Epoch 3/100\n",
            "399/410 [============================>.] - ETA: 0s - loss: 0.3190 - accuracy: 0.8678\n",
            "Epoch 3: val_loss improved from 0.33273 to 0.31667, saving model to global_avg_best.hdf5\n",
            "410/410 [==============================] - 3s 7ms/step - loss: 0.3186 - accuracy: 0.8679 - val_loss: 0.3167 - val_accuracy: 0.8695\n",
            "Epoch 4/100\n",
            "402/410 [============================>.] - ETA: 0s - loss: 0.3067 - accuracy: 0.8716\n",
            "Epoch 4: val_loss improved from 0.31667 to 0.31336, saving model to global_avg_best.hdf5\n",
            "410/410 [==============================] - 3s 7ms/step - loss: 0.3064 - accuracy: 0.8717 - val_loss: 0.3134 - val_accuracy: 0.8707\n",
            "Epoch 5/100\n",
            "407/410 [============================>.] - ETA: 0s - loss: 0.3001 - accuracy: 0.8747\n",
            "Epoch 5: val_loss did not improve from 0.31336\n",
            "410/410 [==============================] - 2s 5ms/step - loss: 0.3005 - accuracy: 0.8743 - val_loss: 0.3143 - val_accuracy: 0.8710\n",
            "Epoch 6/100\n",
            "407/410 [============================>.] - ETA: 0s - loss: 0.2940 - accuracy: 0.8768\n",
            "Epoch 6: val_loss improved from 0.31336 to 0.31326, saving model to global_avg_best.hdf5\n",
            "410/410 [==============================] - 2s 6ms/step - loss: 0.2947 - accuracy: 0.8762 - val_loss: 0.3133 - val_accuracy: 0.8695\n",
            "Epoch 7/100\n",
            "405/410 [============================>.] - ETA: 0s - loss: 0.2892 - accuracy: 0.8797\n",
            "Epoch 7: val_loss improved from 0.31326 to 0.30625, saving model to global_avg_best.hdf5\n",
            "410/410 [==============================] - 2s 6ms/step - loss: 0.2883 - accuracy: 0.8800 - val_loss: 0.3063 - val_accuracy: 0.8707\n",
            "Epoch 8/100\n",
            "401/410 [============================>.] - ETA: 0s - loss: 0.2858 - accuracy: 0.8779\n",
            "Epoch 8: val_loss did not improve from 0.30625\n",
            "410/410 [==============================] - 2s 6ms/step - loss: 0.2866 - accuracy: 0.8775 - val_loss: 0.3386 - val_accuracy: 0.8606\n",
            "Epoch 9/100\n",
            "410/410 [==============================] - ETA: 0s - loss: 0.2839 - accuracy: 0.8809\n",
            "Epoch 9: val_loss improved from 0.30625 to 0.30599, saving model to global_avg_best.hdf5\n",
            "410/410 [==============================] - 2s 6ms/step - loss: 0.2839 - accuracy: 0.8809 - val_loss: 0.3060 - val_accuracy: 0.8728\n",
            "Epoch 10/100\n",
            "408/410 [============================>.] - ETA: 0s - loss: 0.2786 - accuracy: 0.8833\n",
            "Epoch 10: val_loss did not improve from 0.30599\n",
            "410/410 [==============================] - 2s 6ms/step - loss: 0.2780 - accuracy: 0.8836 - val_loss: 0.3302 - val_accuracy: 0.8561\n",
            "Epoch 11/100\n",
            "401/410 [============================>.] - ETA: 0s - loss: 0.2792 - accuracy: 0.8826\n",
            "Epoch 11: val_loss did not improve from 0.30599\n",
            "410/410 [==============================] - 2s 6ms/step - loss: 0.2798 - accuracy: 0.8825 - val_loss: 0.3245 - val_accuracy: 0.8692\n",
            "Epoch 12/100\n",
            "401/410 [============================>.] - ETA: 0s - loss: 0.2732 - accuracy: 0.8854\n",
            "Epoch 12: val_loss improved from 0.30599 to 0.30592, saving model to global_avg_best.hdf5\n",
            "410/410 [==============================] - 2s 6ms/step - loss: 0.2736 - accuracy: 0.8856 - val_loss: 0.3059 - val_accuracy: 0.8695\n",
            "Epoch 13/100\n",
            "406/410 [============================>.] - ETA: 0s - loss: 0.2718 - accuracy: 0.8871\n",
            "Epoch 13: val_loss improved from 0.30592 to 0.30562, saving model to global_avg_best.hdf5\n",
            "410/410 [==============================] - 2s 6ms/step - loss: 0.2717 - accuracy: 0.8871 - val_loss: 0.3056 - val_accuracy: 0.8744\n",
            "Epoch 14/100\n",
            "407/410 [============================>.] - ETA: 0s - loss: 0.2718 - accuracy: 0.8857\n",
            "Epoch 14: val_loss improved from 0.30562 to 0.30391, saving model to global_avg_best.hdf5\n",
            "410/410 [==============================] - 2s 6ms/step - loss: 0.2717 - accuracy: 0.8857 - val_loss: 0.3039 - val_accuracy: 0.8673\n",
            "Epoch 15/100\n",
            "409/410 [============================>.] - ETA: 0s - loss: 0.2700 - accuracy: 0.8876\n",
            "Epoch 15: val_loss improved from 0.30391 to 0.30258, saving model to global_avg_best.hdf5\n",
            "410/410 [==============================] - 3s 6ms/step - loss: 0.2705 - accuracy: 0.8874 - val_loss: 0.3026 - val_accuracy: 0.8722\n",
            "Epoch 16/100\n",
            "407/410 [============================>.] - ETA: 0s - loss: 0.2682 - accuracy: 0.8871\n",
            "Epoch 16: val_loss did not improve from 0.30258\n",
            "410/410 [==============================] - 2s 5ms/step - loss: 0.2685 - accuracy: 0.8870 - val_loss: 0.3073 - val_accuracy: 0.8689\n",
            "Epoch 17/100\n",
            "410/410 [==============================] - ETA: 0s - loss: 0.2665 - accuracy: 0.8885\n",
            "Epoch 17: val_loss did not improve from 0.30258\n",
            "410/410 [==============================] - 2s 5ms/step - loss: 0.2665 - accuracy: 0.8885 - val_loss: 0.3083 - val_accuracy: 0.8679\n",
            "Epoch 18/100\n",
            "408/410 [============================>.] - ETA: 0s - loss: 0.2647 - accuracy: 0.8890\n",
            "Epoch 18: val_loss improved from 0.30258 to 0.30014, saving model to global_avg_best.hdf5\n",
            "410/410 [==============================] - 3s 7ms/step - loss: 0.2650 - accuracy: 0.8890 - val_loss: 0.3001 - val_accuracy: 0.8731\n",
            "Epoch 19/100\n",
            "402/410 [============================>.] - ETA: 0s - loss: 0.2626 - accuracy: 0.8896\n",
            "Epoch 19: val_loss did not improve from 0.30014\n",
            "410/410 [==============================] - 2s 5ms/step - loss: 0.2626 - accuracy: 0.8898 - val_loss: 0.3036 - val_accuracy: 0.8728\n",
            "Epoch 20/100\n",
            "403/410 [============================>.] - ETA: 0s - loss: 0.2610 - accuracy: 0.8900\n",
            "Epoch 20: val_loss did not improve from 0.30014\n",
            "410/410 [==============================] - 2s 6ms/step - loss: 0.2604 - accuracy: 0.8904 - val_loss: 0.3022 - val_accuracy: 0.8725\n",
            "Epoch 21/100\n",
            "400/410 [============================>.] - ETA: 0s - loss: 0.2548 - accuracy: 0.8937\n",
            "Epoch 21: val_loss did not improve from 0.30014\n",
            "410/410 [==============================] - 2s 5ms/step - loss: 0.2559 - accuracy: 0.8935 - val_loss: 0.3043 - val_accuracy: 0.8704\n",
            "Epoch 22/100\n",
            "403/410 [============================>.] - ETA: 0s - loss: 0.2556 - accuracy: 0.8941\n",
            "Epoch 22: val_loss did not improve from 0.30014\n",
            "410/410 [==============================] - 2s 5ms/step - loss: 0.2557 - accuracy: 0.8937 - val_loss: 0.3052 - val_accuracy: 0.8719\n",
            "Epoch 23/100\n",
            "407/410 [============================>.] - ETA: 0s - loss: 0.2538 - accuracy: 0.8956\n",
            "Epoch 23: val_loss did not improve from 0.30014\n",
            "410/410 [==============================] - 2s 5ms/step - loss: 0.2537 - accuracy: 0.8956 - val_loss: 0.3064 - val_accuracy: 0.8750\n",
            "Epoch 24/100\n",
            "407/410 [============================>.] - ETA: 0s - loss: 0.2511 - accuracy: 0.8953\n",
            "Epoch 24: val_loss did not improve from 0.30014\n",
            "410/410 [==============================] - 2s 5ms/step - loss: 0.2512 - accuracy: 0.8953 - val_loss: 0.3077 - val_accuracy: 0.8701\n",
            "Epoch 25/100\n",
            "402/410 [============================>.] - ETA: 0s - loss: 0.2505 - accuracy: 0.8961\n",
            "Epoch 25: val_loss did not improve from 0.30014\n",
            "410/410 [==============================] - 2s 5ms/step - loss: 0.2515 - accuracy: 0.8960 - val_loss: 0.3112 - val_accuracy: 0.8704\n",
            "Epoch 26/100\n",
            "404/410 [============================>.] - ETA: 0s - loss: 0.2499 - accuracy: 0.8952\n",
            "Epoch 26: val_loss did not improve from 0.30014\n",
            "410/410 [==============================] - 3s 6ms/step - loss: 0.2502 - accuracy: 0.8949 - val_loss: 0.3079 - val_accuracy: 0.8713\n",
            "Epoch 27/100\n",
            "408/410 [============================>.] - ETA: 0s - loss: 0.2450 - accuracy: 0.8980\n",
            "Epoch 27: val_loss did not improve from 0.30014\n",
            "410/410 [==============================] - 2s 5ms/step - loss: 0.2450 - accuracy: 0.8981 - val_loss: 0.3081 - val_accuracy: 0.8692\n",
            "Epoch 28/100\n",
            "409/410 [============================>.] - ETA: 0s - loss: 0.2426 - accuracy: 0.8995\n",
            "Epoch 28: val_loss did not improve from 0.30014\n",
            "410/410 [==============================] - 2s 5ms/step - loss: 0.2424 - accuracy: 0.8996 - val_loss: 0.3165 - val_accuracy: 0.8683\n",
            "Epoch 28: early stopping\n"
          ]
        }
      ]
    },
    {
      "cell_type": "code",
      "source": [
        "!ls"
      ],
      "metadata": {
        "colab": {
          "base_uri": "https://localhost:8080/"
        },
        "id": "adqJeKqVtkPg",
        "outputId": "cdfaa469-9810-46a9-f575-95118c8cd6f3"
      },
      "execution_count": null,
      "outputs": [
        {
          "output_type": "stream",
          "name": "stdout",
          "text": [
            "drive  global_avg_best.hdf5  lstm_best.hdf5  sample_data\n"
          ]
        }
      ]
    },
    {
      "cell_type": "code",
      "source": [
        "plt.figure(figsize=(8, 6))\n",
        "plt.plot(result_global_avg.history['accuracy'], c='r', label='train')\n",
        "plt.plot(result_global_avg.history['val_accuracy'], c='b', label='validate')\n",
        "plt.legend()\n",
        "plt.xlabel('Epoch')\n",
        "plt.ylabel('Accuracy')\n",
        "plt.title('Accuracy changes by epoch')\n",
        "plt.show()"
      ],
      "metadata": {
        "colab": {
          "base_uri": "https://localhost:8080/",
          "height": 404
        },
        "id": "DW4BYOB54uJV",
        "outputId": "462e1d5d-1e5b-4aba-aa3d-9d75567f4169"
      },
      "execution_count": null,
      "outputs": [
        {
          "output_type": "display_data",
          "data": {
            "text/plain": [
              "<Figure size 576x432 with 1 Axes>"
            ],
            "image/png": "[encoded data removed]"
          },
          "metadata": {
            "needs_background": "light"
          }
        }
      ]
    },
    {
      "cell_type": "code",
      "source": [
        "plt.figure(figsize=(8, 6))\n",
        "plt.plot(result_global_avg.history['accuracy'], c='r', label='train')\n",
        "plt.plot(result_global_avg.history['val_accuracy'], c='b', label='validate')\n",
        "plt.legend()\n",
        "plt.xlabel('Epoch')\n",
        "plt.ylabel('Accuracy')\n",
        "plt.title('Accuracy changes by epoch')\n",
        "plt.show()"
      ],
      "metadata": {
        "colab": {
          "base_uri": "https://localhost:8080/",
          "height": 404
        },
        "id": "LqNVB-lT4u4G",
        "outputId": "b9be2ae9-2b88-4fb5-d7d9-45963b12183d"
      },
      "execution_count": null,
      "outputs": [
        {
          "output_type": "display_data",
          "data": {
            "text/plain": [
              "<Figure size 576x432 with 1 Axes>"
            ],
            "image/png": "[encoded data removed]"
          },
          "metadata": {
            "needs_background": "light"
          }
        }
      ]
    },
    {
      "cell_type": "code",
      "source": [
        "from sklearn.metrics import f1_score, accuracy_score, precision_score, recall_score\n",
        "\n",
        "lstm.load_weights('lstm_best.hdf5')\n",
        "test_loss, test_acc = lstm.evaluate(x_test, y_test, verbose=1)\n",
        "print(f\"\\n lstm_test_accuracy : {test_acc:.2f} \\n\")\n",
        "\n",
        "\n",
        "global_avg.load_weights('global_avg_best.hdf5')\n",
        "test_loss_global_avg, test_acc_global_avg = global_avg.evaluate(x_test, y_test, verbose=1)\n",
        "print(f\"\\n global_avg_test_accuracy : {test_acc_global_avg:.2f}\")"
      ],
      "metadata": {
        "colab": {
          "base_uri": "https://localhost:8080/"
        },
        "id": "UGjujGv6zbrS",
        "outputId": "951ce3bf-3c65-4cf1-9798-eb3e7abdfab4"
      },
      "execution_count": null,
      "outputs": [
        {
          "output_type": "stream",
          "name": "stdout",
          "text": [
            "129/129 [==============================] - 10s 80ms/step - loss: 0.2509 - accuracy: 0.9002\n",
            "\n",
            " lstm_test_accuracy : 0.90 \n",
            "\n",
            "129/129 [==============================] - 1s 5ms/step - loss: 0.2766 - accuracy: 0.8829\n",
            "\n",
            " global_avg_test_accuracy : 0.88\n"
          ]
        }
      ]
    },
    {
      "cell_type": "code",
      "execution_count": null,
      "metadata": {
        "colab": {
          "base_uri": "https://localhost:8080/",
          "height": 609
        },
        "id": "blCcOJ7pjZQ0",
        "outputId": "32a4a608-bed4-4ee6-a5c4-eea981106a74"
      },
      "outputs": [
        {
          "output_type": "stream",
          "name": "stderr",
          "text": [
            "/usr/local/lib/python3.7/dist-packages/seaborn/_decorators.py:43: FutureWarning: Pass the following variable as a keyword arg: x. From version 0.12, the only valid positional argument will be `data`, and passing other arguments without an explicit keyword will result in an error or misinterpretation.\n",
            "  FutureWarning\n"
          ]
        },
        {
          "output_type": "display_data",
          "data": {
            "text/plain": [
              "<Figure size 504x504 with 1 Axes>"
            ],
            "image/png": "[encoded data removed]"
          },
          "metadata": {
            "needs_background": "light"
          }
        },
        {
          "output_type": "stream",
          "name": "stdout",
          "text": [
            "\n",
            " 베이스 모델 accuracy : 0.74\n",
            "\n",
            " LSTM 모델 accuracy : 0.90\n",
            "\n",
            " GlobalAvg 모델 accuracy : 0.88\n"
          ]
        }
      ],
      "source": [
        "# 베이스 모델 성능(모두 positive로 예측)\n",
        "fig, ax = plt.subplots(ncols=1, figsize=(7,7))\n",
        "ax.plot(1)\n",
        "\n",
        "sns.countplot(df['label'])\n",
        "plt.xticks([0,1], ['negative', 'positive'])\n",
        "plt.show()\n",
        "print(f\"\\n 베이스 모델 accuracy : {df['label'].value_counts(normalize=True)[1]:.2f}\")\n",
        "print(f\"\\n LSTM 모델 accuracy : {lstm.evaluate(x_test, y_test, verbose=0)[1]:.2f}\")\n",
        "print(f\"\\n GlobalAvg 모델 accuracy : {global_avg.evaluate(x_test, y_test, verbose=0)[1]:.2f}\")"
      ]
    },
    {
      "cell_type": "code",
      "source": [
        "sns.barplot(x=['base', 'lstm', 'globalavg'], y=[df['label'].value_counts(normalize=True)[1], lstm.evaluate(x_test, y_test, verbose=0)[1], global_avg.evaluate(x_test, y_test, verbose=0)[1]], palette='Blues')\n",
        "plt.yticks(np.arange(0., 1., .1))\n",
        "plt.show()"
      ],
      "metadata": {
        "colab": {
          "base_uri": "https://localhost:8080/",
          "height": 265
        },
        "id": "5E570GP67U-5",
        "outputId": "e3886cbc-83d4-4d35-90c2-2e79370c69d5"
      },
      "execution_count": null,
      "outputs": [
        {
          "output_type": "display_data",
          "data": {
            "text/plain": [
              "<Figure size 432x288 with 1 Axes>"
            ],
            "image/png": "[encoded data removed]"
          },
          "metadata": {
            "needs_background": "light"
          }
        }
      ]
    },
    {
      "cell_type": "code",
      "source": [
        "from sklearn.model_selection import StratifiedKFold\n",
        "\n",
        "stkf = StratifiedKFold(n_splits=5)\n",
        "\n",
        "train_accs = []\n",
        "val_accs = []\n",
        "train_losses = []\n",
        "val_losses = []\n",
        "\n",
        "i = 0\n",
        "for train_idx, val_idx in stkf.split(x, df['label']):\n",
        "  x = pd.DataFrame(x)\n",
        "  x_train = x.iloc[train_idx] \n",
        "  y_train = df[['label']].iloc[train_idx]\n",
        "  x_val = x.iloc[val_idx] \n",
        "  y_val = df[['label']].iloc[val_idx]\n",
        "  if i == 0:\n",
        "    print(f\"train data shpae 확인 : {x_train.shape}, {y_train.shape}\")\n",
        "    print(f\"val data shpae 확인 : {x_val.shape}, {y_val.shape}\")\n",
        "    i += 1\n",
        "  else:\n",
        "    pass\n",
        "  train_loss, train_acc = lstm.evaluate(x_train, y_train, verbose=1)\n",
        "  val_loss, val_acc = lstm.evaluate(x_val, y_val, verbose=1)\n",
        "  train_accs.append(train_acc)\n",
        "  val_accs.append(val_acc)\n",
        "  train_losses.append(train_loss)\n",
        "  val_losses.append(val_loss)\n",
        "\n",
        "print(train_accs)\n",
        "print(val_accs)\n",
        "print(train_losses)\n",
        "print(val_losses)"
      ],
      "metadata": {
        "colab": {
          "base_uri": "https://localhost:8080/"
        },
        "id": "_S0bku4_yZ30",
        "outputId": "e2f5d7a6-56f2-4f5c-ed87-f18f6344f593"
      },
      "execution_count": null,
      "outputs": [
        {
          "output_type": "stream",
          "name": "stdout",
          "text": [
            "train data shpae 확인 : (16392, 120), (16392, 1)\n",
            "val data shpae 확인 : (4099, 120), (4099, 1)\n",
            "513/513 [==============================] - 42s 82ms/step - loss: 0.2302 - accuracy: 0.9075\n",
            "129/129 [==============================] - 10s 80ms/step - loss: 0.2286 - accuracy: 0.9110\n",
            "513/513 [==============================] - 43s 84ms/step - loss: 0.2282 - accuracy: 0.9088\n",
            "129/129 [==============================] - 10s 80ms/step - loss: 0.2370 - accuracy: 0.9056\n",
            "513/513 [==============================] - 41s 79ms/step - loss: 0.2285 - accuracy: 0.9084\n",
            "129/129 [==============================] - 10s 79ms/step - loss: 0.2357 - accuracy: 0.9073\n",
            "513/513 [==============================] - 40s 78ms/step - loss: 0.2310 - accuracy: 0.9087\n",
            "129/129 [==============================] - 10s 79ms/step - loss: 0.2258 - accuracy: 0.9061\n",
            "513/513 [==============================] - 40s 78ms/step - loss: 0.2318 - accuracy: 0.9075\n",
            "129/129 [==============================] - 10s 77ms/step - loss: 0.2225 - accuracy: 0.9109\n",
            "[0.9074548482894897, 0.9088025093078613, 0.9083755016326904, 0.9086805582046509, 0.9074605107307434]\n",
            "[0.9109538793563843, 0.9055637121200562, 0.9072718620300293, 0.906051754951477, 0.910932183265686]\n",
            "[0.23024311661720276, 0.22815121710300446, 0.22846782207489014, 0.23095926642417908, 0.23178726434707642]\n",
            "[0.22863580286502838, 0.23700425028800964, 0.23573806881904602, 0.22577150166034698, 0.2224593311548233]\n"
          ]
        }
      ]
    },
    {
      "cell_type": "code",
      "source": [
        "print(f\"train_set 평균 정확도 : {np.mean(train_accs).round(2)}\")\n",
        "print(f\"validate_set 평균 정확도 : {np.mean(val_accs).round(2)} \\n\")\n",
        "print(f\"train_set 평균 손실 : {np.mean(train_losses).round(2)}\")\n",
        "print(f\"validate_set 평균 손실 : {np.mean(val_losses).round(2)}\")"
      ],
      "metadata": {
        "colab": {
          "base_uri": "https://localhost:8080/"
        },
        "id": "rEUO06C02v5g",
        "outputId": "65a22d64-a438-407c-83ea-08eafa962597"
      },
      "execution_count": null,
      "outputs": [
        {
          "output_type": "stream",
          "name": "stdout",
          "text": [
            "train_set 평균 정확도 : 0.91\n",
            "validate_set 평균 정확도 : 0.91 \n",
            "\n",
            "train_set 평균 손실 : 0.23\n",
            "validate_set 평균 손실 : 0.23\n"
          ]
        }
      ]
    },
    {
      "cell_type": "code",
      "source": [
        "test1 = \"I am happy to be with this hotel\"\n",
        "test2 = \"It is worth coming once a year\"\n",
        "test3 = \"The room was very bad\"\n",
        "test4 = \"Not good\"\n",
        "sentences = [test1, test2, test3, test4]"
      ],
      "metadata": {
        "id": "S2pz3-JB1t_w"
      },
      "execution_count": null,
      "outputs": []
    },
    {
      "cell_type": "code",
      "source": [
        "# 고객들의 문자열 리뷰 > 인덱스화 + 패딩처리 함수\n",
        "def to_sequence(sentences):\n",
        "  sentence_list = []\n",
        "  for sent in sentences:\n",
        "    sent = lower_and_regex(sent)\n",
        "    sentence_list.append(sent)\n",
        "\n",
        "  sents_encoded = tokenizer.texts_to_sequences(sentence_list)\n",
        "  x = pad_sequences(sents_encoded, maxlen=120, truncating='post', padding='post')\n",
        "  return x\n",
        "\n",
        "test_review = to_sequence(sentences)\n",
        "results = lstm.predict(test_review)\n",
        "for i in range(len(results)):\n",
        "  print(f\"test{i+1} : 긍정확률 {results[i][0] * 100:.2f}%의 리뷰 작성하였습니다.\")\n",
        "  if results[i][0] > 0.6:\n",
        "    print('\\t\\t\\t\\t\\t 최종 감정: 긍정 \\n')\n",
        "  elif results[i][0] > 0.4:\n",
        "    print('\\t\\t\\t\\t\\t 최종 감정: 중립 \\n')\n",
        "  else:\n",
        "    print('\\t\\t\\t\\t\\t 최종 감정: 부정 \\n')"
      ],
      "metadata": {
        "colab": {
          "base_uri": "https://localhost:8080/"
        },
        "id": "X8yysIBB05tq",
        "outputId": "fa7b2c7f-0eeb-42f6-ed0d-db68a4610dfc"
      },
      "execution_count": null,
      "outputs": [
        {
          "output_type": "stream",
          "name": "stdout",
          "text": [
            "test1 : 긍정확률 83.27%의 리뷰 작성하였습니다.\n",
            "\t\t\t\t\t 최종 감정: 긍정 \n",
            "\n",
            "test2 : 긍정확률 45.46%의 리뷰 작성하였습니다.\n",
            "\t\t\t\t\t 최종 감정: 중립 \n",
            "\n",
            "test3 : 긍정확률 4.74%의 리뷰 작성하였습니다.\n",
            "\t\t\t\t\t 최종 감정: 부정 \n",
            "\n",
            "test4 : 긍정확률 37.00%의 리뷰 작성하였습니다.\n",
            "\t\t\t\t\t 최종 감정: 부정 \n",
            "\n"
          ]
        }
      ]
    },
    {
      "cell_type": "code",
      "source": [
        "# 개발한 모델저장\n",
        "import pickle\n",
        "\n",
        "with open('model.pkl', 'wb') as model_file:\n",
        "  pickle.dump(lstm, model_file)"
      ],
      "metadata": {
        "colab": {
          "base_uri": "https://localhost:8080/"
        },
        "id": "6u7U_sZQFdWl",
        "outputId": "c5b08642-0f9a-4307-9367-e7a829948e7d"
      },
      "execution_count": null,
      "outputs": [
        {
          "output_type": "stream",
          "name": "stderr",
          "text": [
            "WARNING:absl:Found untraced functions such as lstm_cell_layer_call_fn, lstm_cell_layer_call_and_return_conditional_losses while saving (showing 2 of 2). These functions will not be directly callable after loading.\n"
          ]
        },
        {
          "output_type": "stream",
          "name": "stdout",
          "text": [
            "INFO:tensorflow:Assets written to: ram://10370f9a-77c6-4c36-8bbd-07c6a35b2981/assets\n"
          ]
        },
        {
          "output_type": "stream",
          "name": "stderr",
          "text": [
            "INFO:tensorflow:Assets written to: ram://10370f9a-77c6-4c36-8bbd-07c6a35b2981/assets\n",
            "WARNING:absl:<keras.layers.recurrent.LSTMCell object at 0x7fbdb5cfcb50> has the same name 'LSTMCell' as a built-in Keras object. Consider renaming <class 'keras.layers.recurrent.LSTMCell'> to avoid naming conflicts when loading with `tf.keras.models.load_model`. If renaming is not possible, pass the object in the `custom_objects` parameter of the load function.\n"
          ]
        }
      ]
    },
    {
      "cell_type": "code",
      "source": [
        "#  개발에 활용한 라이브러리 + 코랩에 내장된 라이브러리 목록저장\n",
        "!pip freeze > requirements.txt"
      ],
      "metadata": {
        "id": "tlibBAXsHKzE"
      },
      "execution_count": null,
      "outputs": []
    }
  ],
  "metadata": {
    "colab": {
      "collapsed_sections": [],
      "name": "section4_project",
      "provenance": []
    },
    "kernelspec": {
      "display_name": "Python 3",
      "name": "python3"
    },
    "language_info": {
      "name": "python"
    }
  },
  "nbformat": 4,
  "nbformat_minor": 0
}